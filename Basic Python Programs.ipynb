{
  "nbformat": 4,
  "nbformat_minor": 0,
  "metadata": {
    "colab": {
      "provenance": [],
      "authorship_tag": "ABX9TyPQ/hcij28Ee4M2+lyPUtDG",
      "include_colab_link": true
    },
    "kernelspec": {
      "name": "python3",
      "display_name": "Python 3"
    },
    "language_info": {
      "name": "python"
    }
  },
  "cells": [
    {
      "cell_type": "markdown",
      "metadata": {
        "id": "view-in-github",
        "colab_type": "text"
      },
      "source": [
        "<a href=\"https://colab.research.google.com/github/VMOnGit/PythonForML/blob/main/Basic%20Python%20Programs.ipynb\" target=\"_parent\"><img src=\"https://colab.research.google.com/assets/colab-badge.svg\" alt=\"Open In Colab\"/></a>"
      ]
    },
    {
      "cell_type": "markdown",
      "source": [
        "## 1. Program to find largest of three numbers\n",
        "\n",
        "- **Read required values from user**\n",
        "- **Find largest of the values read by using conditional statements `if-else`**\n",
        "- **Display the largest value that has been read**\n",
        "\n",
        "\n"
      ],
      "metadata": {
        "id": "M71fbCtRpBXZ"
      }
    },
    {
      "cell_type": "code",
      "source": [
        "\"\"\"\n",
        "# Python program to find the largest number among the three input numbers\n",
        "\"\"\"3\n",
        "\n",
        "num1 = float(input(\"Enter first number: \"))\n",
        "num2 = float(input(\"Enter second number: \"))\n",
        "num3 = float(input(\"Enter third number: \"))\n",
        "if (num1 >= num2) and (num1 >= num3):\n",
        "   largest = num1\n",
        "elif (num2 >= num1) and (num2 >= num3):\n",
        "   largest = num2\n",
        "else:\n",
        "   largest = num3\n",
        "print(\"The largest number is\", largest)"
      ],
      "metadata": {
        "colab": {
          "base_uri": "https://localhost:8080/"
        },
        "id": "IP0Rp8zNpGEL",
        "outputId": "575a2be2-31e3-4e11-fb2a-8f5584f69b40"
      },
      "execution_count": 3,
      "outputs": [
        {
          "output_type": "stream",
          "name": "stdout",
          "text": [
            "Enter first number: 2\n",
            "Enter second number: 4\n",
            "Enter third number: 3\n",
            "The largest number is 4.0\n"
          ]
        }
      ]
    },
    {
      "cell_type": "markdown",
      "source": [
        "## Printing multiplication table\n",
        "- **Read the number**\n",
        "- **Iterate the multiplier from $1$ to $10$ using `for` and `range`**"
      ],
      "metadata": {
        "id": "yiWkBjCAR_0-"
      }
    },
    {
      "cell_type": "code",
      "execution_count": null,
      "metadata": {
        "colab": {
          "base_uri": "https://localhost:8080/"
        },
        "id": "GXVl7OjcR71f",
        "outputId": "bfad6c7e-2372-4aa5-bcac-544474760523"
      },
      "outputs": [
        {
          "output_type": "stream",
          "name": "stdout",
          "text": [
            "12 x 1 = 12\n",
            "12 x 2 = 24\n",
            "12 x 3 = 36\n",
            "12 x 4 = 48\n",
            "12 x 5 = 60\n",
            "12 x 6 = 72\n",
            "12 x 7 = 84\n",
            "12 x 8 = 96\n",
            "12 x 9 = 108\n",
            "12 x 10 = 120\n"
          ]
        }
      ],
      "source": [
        "# Multiplication table (from 1 to 10) in Python\n",
        "\n",
        "num = 12\n",
        "\n",
        "# To take input from the user\n",
        "# num = int(input(\"Display multiplication table of? \"))\n",
        "\n",
        "# Iterate 10 times from i = 1 to 10\n",
        "for i in range(1, 11):\n",
        "   print(num, 'x', i, '=', num*i)"
      ]
    },
    {
      "cell_type": "markdown",
      "source": [
        ">**Task:** Get an integer less than 12 from the user and display its's ,multiplication table.\n",
        "> - **Multiplication with user input**"
      ],
      "metadata": {
        "id": "NLCPCHIQx7I6"
      }
    },
    {
      "cell_type": "code",
      "source": [
        "# To take input from the user\n",
        "num = int(input(\"Display multiplication table of? \"))\n",
        "\n",
        "# Iterate 10 times from i = 1 to 10\n",
        "for i in range(1, 11):\n",
        "   print(i, 'x', num, '=', num*i)"
      ],
      "metadata": {
        "colab": {
          "base_uri": "https://localhost:8080/"
        },
        "id": "-TWleoH9ySsk",
        "outputId": "47459ce8-fb5c-4985-bd3f-6b36b2d9f391"
      },
      "execution_count": null,
      "outputs": [
        {
          "output_type": "stream",
          "name": "stdout",
          "text": [
            "Display multiplication table of? 9\n",
            "1 x 9 = 9\n",
            "2 x 9 = 18\n",
            "3 x 9 = 27\n",
            "4 x 9 = 36\n",
            "5 x 9 = 45\n",
            "6 x 9 = 54\n",
            "7 x 9 = 63\n",
            "8 x 9 = 72\n",
            "9 x 9 = 81\n",
            "10 x 9 = 90\n"
          ]
        }
      ]
    },
    {
      "cell_type": "markdown",
      "source": [
        "## Check for sign of a number\n",
        "\n",
        "- **Read a number from the user**\n",
        "- **Check whether entered number is negative,positive or zero using conditionals `if-elif-else`**\n",
        "- **Display result found**\n"
      ],
      "metadata": {
        "id": "yo27A0UgSLMG"
      }
    },
    {
      "cell_type": "code",
      "source": [
        "num = float(input(\"Enter a number: \"))\n",
        "if num > 0:\n",
        "   print(\"Positive number\")\n",
        "elif num == 0:\n",
        "   print(\"Zero\")\n",
        "else:\n",
        "   print(\"Negative number\")"
      ],
      "metadata": {
        "colab": {
          "base_uri": "https://localhost:8080/"
        },
        "id": "qagw5dYPSOtO",
        "outputId": "eae6d414-7fbb-422f-b82d-f736ddfa3a93"
      },
      "execution_count": null,
      "outputs": [
        {
          "output_type": "stream",
          "name": "stdout",
          "text": [
            "Enter a number: -0.9\n",
            "Negative number\n"
          ]
        }
      ]
    },
    {
      "cell_type": "markdown",
      "source": [
        "## Find surface area and volume of a cylinder\n",
        "\n",
        "Let $r$ is the base radius and $h$ is the height of a right circular cylinder.\n",
        "$$SA=2\\pi r(r+h)$$\n",
        "\n",
        "$$V=\\pi r^2 h$$\n",
        "- **Read the base radius and height of the cylinder from user.**\n",
        "- **Calculate the Surface area and volume using above formulas.**\n",
        "- **Display the surface area and volume.**"
      ],
      "metadata": {
        "id": "Rr--yGIkVoaw"
      }
    },
    {
      "cell_type": "code",
      "source": [
        "#from math import pi\n",
        "pi=3.14\n",
        "r=float(input(\"Enter radius of cylinder:\"))\n",
        "h=float(input(\"Enter height of cylinder:\"))\n",
        "SA=2*pi*r*(r+h)\n",
        "V=pi*r**2*h\n",
        "print((\"Surface Area is {:.2f} and Volume is {:.2f}\").format(SA,V))"
      ],
      "metadata": {
        "colab": {
          "base_uri": "https://localhost:8080/"
        },
        "id": "NP5Yahw5Wazn",
        "outputId": "ea99c123-6577-46e8-c537-66c46afc78cc"
      },
      "execution_count": null,
      "outputs": [
        {
          "output_type": "stream",
          "name": "stdout",
          "text": [
            "Enter radius of cylinder:3.456\n",
            "Enter height of cylinder:4.567\n",
            "Surface Area is 174.13 and Volume is 171.28\n"
          ]
        }
      ]
    },
    {
      "cell_type": "markdown",
      "source": [
        "## Program to remove a word from a sentence\n",
        "\n",
        "We will use the string method `remove()`.\n",
        "\n",
        ">**Syntax:**\n",
        "\n",
        "```\n",
        "str.remove(word to be removed)\n",
        "```\n",
        "- **Read text**\n",
        "- **Read word to be removed**\n",
        "- **Replace text using `replace` fucntion**"
      ],
      "metadata": {
        "id": "kpxkra3ZjgzQ"
      }
    },
    {
      "cell_type": "code",
      "source": [
        "# program to remove a word from a sentence\n",
        "text = input(\"Enter the String: \")\n",
        "word = input(\"Enter a Word to Delete: \")\n",
        "\n",
        "text = text.replace(word, \"\")\n",
        "print(\"The updated sentence is:\\n\")\n",
        "print(text)"
      ],
      "metadata": {
        "colab": {
          "base_uri": "https://localhost:8080/"
        },
        "id": "-bTOChg4kxRr",
        "outputId": "8dbdb8b0-d752-4567-d531-85028c329020"
      },
      "execution_count": null,
      "outputs": [
        {
          "output_type": "stream",
          "name": "stdout",
          "text": [
            "Enter the String: He is my friend\n",
            "Enter a Word to Delete: my\n",
            "The updated sentence is:\n",
            "\n",
            "He is  friend\n"
          ]
        }
      ]
    },
    {
      "cell_type": "code",
      "source": [
        "# program to remove a word from a sentence\n",
        "text = input(\"Enter the String: \")\n",
        "word = input(\"Enter a Word to Delete: \")\n",
        "\n",
        "text = text.remove(word)\n",
        "print(\"The updated sentence is:\\n\")\n",
        "print(text)"
      ],
      "metadata": {
        "id": "ccujKR0l7qwZ"
      },
      "execution_count": null,
      "outputs": []
    },
    {
      "cell_type": "markdown",
      "source": [
        "## Program to split a sentence into words\n",
        "\n",
        "use the `split()` method\n",
        ">**Syntax:**\n",
        "```\n",
        "str.split()\n",
        "```\n",
        "\n",
        "- **Read text**\n",
        "- **Using `split` function split the sentence into a list**\n",
        "- **Display output**"
      ],
      "metadata": {
        "id": "NRg-zTGOlVKG"
      }
    },
    {
      "cell_type": "code",
      "source": [
        "wordlist = text.split()\n",
        "wordlist"
      ],
      "metadata": {
        "colab": {
          "base_uri": "https://localhost:8080/"
        },
        "id": "GjXgR_vmlqRd",
        "outputId": "4f9ed9a9-bcb1-4164-9955-ef8744a9b64c"
      },
      "execution_count": null,
      "outputs": [
        {
          "output_type": "execute_result",
          "data": {
            "text/plain": [
              "['You', 'are', 'girl']"
            ]
          },
          "metadata": {},
          "execution_count": 21
        }
      ]
    },
    {
      "cell_type": "markdown",
      "source": [
        "## Find area of a circle with radius $r$ using user input\n",
        "- ** Read user input for the radius of a circle**\n",
        "- **Calculate the radius of a circle using the below formula\n",
        "$$Area=\\pi r^2 $$\n",
        "- Display obtained output."
      ],
      "metadata": {
        "id": "sSr3xEtuXdw-"
      }
    },
    {
      "cell_type": "code",
      "source": [
        "\"\"\"\n",
        "program to find area of a circle\n",
        "\"\"\"\n",
        "r=float(input(\"Enter the radius: \"))\n",
        "print(\"Area: \",pi*r**2)"
      ],
      "metadata": {
        "colab": {
          "base_uri": "https://localhost:8080/"
        },
        "id": "2joezx-KXljx",
        "outputId": "5eab0c01-0061-478a-a647-c97f69f28e71"
      },
      "execution_count": null,
      "outputs": [
        {
          "output_type": "stream",
          "name": "stdout",
          "text": [
            "Enter the radius: 6.3\n",
            "Area:  124.6266\n"
          ]
        }
      ]
    },
    {
      "cell_type": "markdown",
      "source": [
        "## Find the area of a rectangle with lenght $l$ and breadth $b$\n",
        "- **Use entered values of length and breadth**\n",
        "- **Calculate area using the below formula**\n",
        "$$Area = l*b$$\n",
        "- **Display obtained output**"
      ],
      "metadata": {
        "id": "VRlXLlz9YD6N"
      }
    },
    {
      "cell_type": "code",
      "source": [
        "l=2;b=5.2\n",
        "Area=l*b\n",
        "print(\"Area of the Rectangle is : \",Area)"
      ],
      "metadata": {
        "colab": {
          "base_uri": "https://localhost:8080/"
        },
        "id": "tE_hVFL2YK2F",
        "outputId": "fecd8378-eb1d-4c74-9692-3611652c3068"
      },
      "execution_count": null,
      "outputs": [
        {
          "output_type": "stream",
          "name": "stdout",
          "text": [
            "Area of the Rectangle is :  10.4\n"
          ]
        }
      ]
    },
    {
      "cell_type": "markdown",
      "source": [
        "## Replacing a word with another word  in a sentence\n",
        "\n",
        "Use the `replace()` method in `python`\n",
        "\n",
        ">**Syntax:**\n",
        "\n",
        "```\n",
        "str.replace(old,new)\n",
        "```\n",
        "- **Read text**\n",
        "- **Entered word to be replaced and the word to replace it with**\n",
        "\n"
      ],
      "metadata": {
        "id": "SP246J1XZHbk"
      }
    },
    {
      "cell_type": "code",
      "source": [
        "# program to replace a word by another word in a sentence\n",
        "\n",
        "text = 'hand ball is a hand full of hands'\n",
        "\n",
        "# replace 'hand' with 'foot'\n",
        "replaced_text = text.replace('hand ', 'foot ')\n",
        "print(replaced_text)"
      ],
      "metadata": {
        "colab": {
          "base_uri": "https://localhost:8080/"
        },
        "id": "QfIPj2_SZM6n",
        "outputId": "49f71787-5fc9-4245-cd7e-769bff7b0b08"
      },
      "execution_count": null,
      "outputs": [
        {
          "output_type": "stream",
          "name": "stdout",
          "text": [
            "foot ball is a foot full of foots\n"
          ]
        }
      ]
    },
    {
      "cell_type": "markdown",
      "source": [
        "## Program to check if a list of words is in a long string at least one\n",
        "- **Read a keyword list and a sentence**\n",
        "- **Use ` intersection` set function to check if any of the keywords are in the sentence**\n",
        "- **Display if any keywords were found in the sentence**"
      ],
      "metadata": {
        "id": "EAo8docqnlRg"
      }
    },
    {
      "cell_type": "code",
      "source": [
        "# program to check atleat one occurance of keywords\n",
        "\n",
        "keyword_list = ['motorcycle', 'bike', 'bicycle', 'dirtbike', \"long\"]\n",
        "all_text = 'The bicycle is just as good company as most husbands and, when it gets old and shabby, a woman can dispose of it and get a new one without shocking the entire community'\n",
        "if set(keyword_list).intersection(all_text.split()):\n",
        "     print(\"Found One\")"
      ],
      "metadata": {
        "colab": {
          "base_uri": "https://localhost:8080/"
        },
        "id": "RnmT51ISnsVu",
        "outputId": "14d2a745-882a-4fd6-8a27-365a81f815c9"
      },
      "execution_count": null,
      "outputs": [
        {
          "output_type": "stream",
          "name": "stdout",
          "text": [
            "Found One\n"
          ]
        }
      ]
    },
    {
      "cell_type": "markdown",
      "source": [
        "## program to check a number is even or odd\n",
        "- **Read a number from user**\n",
        "- **Using `%` operator to obtain remainder and check if the remainder is 0 using conditonals `if-else`**\n",
        "- Display obtained output"
      ],
      "metadata": {
        "id": "WG6KupkbovWM"
      }
    },
    {
      "cell_type": "code",
      "source": [
        "num = int(input(\"Enter the Number: \"))\n",
        "if num%2==0:\n",
        "    print(\"\\n\",num,\"is an Even Number\")\n",
        "else:\n",
        "    print(\"\\n\",num,\"is an Odd Number\")"
      ],
      "metadata": {
        "colab": {
          "base_uri": "https://localhost:8080/"
        },
        "id": "b_-2wp13o0Vo",
        "outputId": "a5ecea89-d08d-4987-858a-65d91d441f94"
      },
      "execution_count": null,
      "outputs": [
        {
          "output_type": "stream",
          "name": "stdout",
          "text": [
            "Enter the Number: 22\n",
            "\n",
            " 22 is an Even Number\n"
          ]
        }
      ]
    },
    {
      "cell_type": "markdown",
      "source": [
        "## Program to check whether an entered one is an alphabet or not\n",
        "- **Read a character from user**\n",
        "- **Check with conditionals `if-else` whether it is an alphabet**\n",
        "- **Display the output**"
      ],
      "metadata": {
        "id": "kEo5cMDdpRlz"
      }
    },
    {
      "cell_type": "code",
      "source": [
        "c = input(\"Enter a Character: \")\n",
        "if c>='a' and c<='z':\n",
        "    print(\"\\nIt is an alphabet\")\n",
        "elif c>='A' and c<='z':\n",
        "    print(\"\\nIt is an alphabet\")\n",
        "else:\n",
        "    print(\"\\nIt is not an alphabet!\")"
      ],
      "metadata": {
        "colab": {
          "base_uri": "https://localhost:8080/"
        },
        "id": "ofx_FoHKpX_K",
        "outputId": "6a334ad9-1d22-43f0-bcb7-83982aa5121e"
      },
      "execution_count": null,
      "outputs": [
        {
          "output_type": "stream",
          "name": "stdout",
          "text": [
            "Enter a Character: 12\n",
            "\n",
            "It is not an alphabet!\n"
          ]
        }
      ]
    },
    {
      "cell_type": "markdown",
      "source": [
        "## Program to check whether an entered letter is a vowel or not\n",
        "- **Read a character from user**\n",
        "- **Check with conditionals `if-else` whether it is an vowel**\n",
        "- **Display the output**"
      ],
      "metadata": {
        "id": "C4_oMf3apqzg"
      }
    },
    {
      "cell_type": "code",
      "source": [
        "c = input(\"Enter the Character: \")\n",
        "v={'a','e','i','o','u','A','E','I','O','U'}\n",
        "if c in v:\n",
        "    print(\"\\nIt is a Vowel\")\n",
        "else:\n",
        "    print(\"\\nIt is a Consonant\")"
      ],
      "metadata": {
        "colab": {
          "base_uri": "https://localhost:8080/"
        },
        "id": "CRAi0VdtpzPi",
        "outputId": "a60612ef-fb92-4bac-92cd-2e7daa784e30"
      },
      "execution_count": null,
      "outputs": [
        {
          "output_type": "stream",
          "name": "stdout",
          "text": [
            "Enter the Character: A\n",
            "\n",
            "It is a Vowel\n"
          ]
        }
      ]
    },
    {
      "cell_type": "markdown",
      "source": [
        ">**Another method**\n",
        "\n",
        "using `or` expression"
      ],
      "metadata": {
        "id": "iz3TO1SAqXKh"
      }
    },
    {
      "cell_type": "code",
      "source": [
        "c = input(\"Enter the Character: \")\n",
        "\n",
        "if c=='a' or c=='e' or c=='i' or c=='o' or c=='u':\n",
        "    print(\"\\nIt is a Vowel\")\n",
        "elif c=='A' or c=='E' or c=='I' or c=='O' or c=='U':\n",
        "    print(\"\\nIt is a Vowel\")\n",
        "else:\n",
        "    print(\"\\nIt is a Consonant\")"
      ],
      "metadata": {
        "id": "cBPy2QN5qawv"
      },
      "execution_count": null,
      "outputs": []
    },
    {
      "cell_type": "markdown",
      "source": [
        "## Program to check leap year\n",
        "- **Read a year from user**\n",
        "- **Check with conditionals `if-else` whether it is a leap year**\n",
        "- **Display the output**"
      ],
      "metadata": {
        "id": "xWyNWqflqt6T"
      }
    },
    {
      "cell_type": "code",
      "source": [
        "y = int(input(\"Enter the Year: \"))\n",
        "\n",
        "if y%4==0 and y%100!=0:\n",
        "    print(\"\\nIt is a Leap Year\")\n",
        "elif y%400==0:\n",
        "    print(\"\\nIt is a Leap Year\")\n",
        "else:\n",
        "    print(\"\\nIt is not a Leap Year\")"
      ],
      "metadata": {
        "colab": {
          "base_uri": "https://localhost:8080/"
        },
        "id": "08_q45cmqwj_",
        "outputId": "bd7494cd-aeae-4f74-b66d-a5ea231d117a"
      },
      "execution_count": null,
      "outputs": [
        {
          "output_type": "stream",
          "name": "stdout",
          "text": [
            "Enter the Year: 1980\n",
            "\n",
            "It is a Leap Year\n"
          ]
        }
      ]
    },
    {
      "cell_type": "markdown",
      "source": [
        "## Programs with iteratives"
      ],
      "metadata": {
        "id": "vz2ZLvryun46"
      }
    },
    {
      "cell_type": "markdown",
      "source": [
        "## Program to check whether a number is a perfect number or not\n",
        "\n",
        "A number $n$ is called a perfect number if sum of all its divisors gives $n$.\n",
        "- **Read a number from user**\n",
        "- **Check with conditionals `if-else` whether it is an perfect and use `for` to iterate from $1$ to given number**\n",
        "- **Display the output**"
      ],
      "metadata": {
        "id": "wIpKRZf8rSFh"
      }
    },
    {
      "cell_type": "code",
      "source": [
        "num = int(input(\"Enter the Number:\"))\n",
        "sum = 0\n",
        "for i in range(1, num):\n",
        "  if num%i==0:\n",
        "    sum = sum+i\n",
        "if num==sum:\n",
        "  print(\"It is a Perfect Number\")\n",
        "else:\n",
        "  print(\"It is not a Perfect Number\")"
      ],
      "metadata": {
        "colab": {
          "base_uri": "https://localhost:8080/"
        },
        "id": "0iMMskGnrg67",
        "outputId": "63ff8e32-eb97-4829-acc9-291370d73222"
      },
      "execution_count": null,
      "outputs": [
        {
          "output_type": "stream",
          "name": "stdout",
          "text": [
            "Enter the Number:6\n",
            "It is a Perfect Number\n"
          ]
        }
      ]
    },
    {
      "cell_type": "code",
      "source": [
        "## Program to list all perfect number below a limit\n",
        "num = int(input(\"Enter the limit:\"))\n",
        "print(\"Perfect numbers are:\")\n",
        "print(\"***\"*10)\n",
        "pn=[]\n",
        "for n in range(1,num):\n",
        "  sum = 0\n",
        "  for i in range(1, n):\n",
        "    if n%i==0:\n",
        "      sum = sum+i\n",
        "  if n==sum:\n",
        "    pn.append(n)\n",
        "print(pn)\n",
        "  "
      ],
      "metadata": {
        "colab": {
          "base_uri": "https://localhost:8080/"
        },
        "id": "S5VM67CIrvS8",
        "outputId": "3ca7b591-6fc1-46f0-fa36-46a0fe613351"
      },
      "execution_count": null,
      "outputs": [
        {
          "output_type": "stream",
          "name": "stdout",
          "text": [
            "Enter the limit:500\n",
            "Perfect numbers are:\n",
            "******************************\n",
            "[6, 28, 496]\n"
          ]
        }
      ]
    },
    {
      "cell_type": "markdown",
      "source": [
        "## Program to test whether reversal of a number is same as itself\n",
        "- **Read a number from user**\n",
        "- **Find the reverse of given number by using below formula**\n",
        "$$rem = num%10$$\n",
        "$$rev = rem + (rev*10)$$\n",
        "$$ num = num//10$$\n",
        "- **Check whether the reverse and number are equal using `if-else`**\n",
        "- **Display the output**"
      ],
      "metadata": {
        "id": "azoRFThntacI"
      }
    },
    {
      "cell_type": "code",
      "source": [
        "num = int(input(\"Enter the Number: \"))\n",
        "rev = 0\n",
        "orig = num\n",
        "while num>0:\n",
        "    rem = num%10\n",
        "    rev = rem + (rev*10)\n",
        "    num = num//10\n",
        "\n",
        "if orig==rev:\n",
        "    print(\"\\nThe Number is Equal to Its Reverse\")\n",
        "else:\n",
        "    print(\"\\nThe Number is not Equal to Its Reverse\")"
      ],
      "metadata": {
        "colab": {
          "base_uri": "https://localhost:8080/"
        },
        "id": "FaadzWp8tgfb",
        "outputId": "270ffb79-8604-4800-c848-8f6ae0841510"
      },
      "execution_count": null,
      "outputs": [
        {
          "output_type": "stream",
          "name": "stdout",
          "text": [
            "Enter the Number: 151\n",
            "\n",
            "The Number is Equal to Its Reverse\n"
          ]
        }
      ]
    },
    {
      "cell_type": "markdown",
      "source": [
        "## program to count the number of digits in a number\n",
        "- **Read input from user**\n",
        "- **Divide num by 10 to pick out each digit and while the number exists keep a counter**\n",
        "- **Display the count**"
      ],
      "metadata": {
        "id": "E0ygCvykuNkH"
      }
    },
    {
      "cell_type": "code",
      "source": [
        "num = int(input(\"Enter the Number: \"))\n",
        "tot = 0\n",
        "\n",
        "while num:\n",
        "  num = num//10\n",
        "  tot = tot+1\n",
        "\n",
        "print(\"\\nTotal Digit: \")\n",
        "print(tot)"
      ],
      "metadata": {
        "colab": {
          "base_uri": "https://localhost:8080/"
        },
        "id": "bKiuShhFr1HD",
        "outputId": "89c87bd2-5b3a-4788-a0a4-0a0a5d258cb5"
      },
      "execution_count": null,
      "outputs": [
        {
          "output_type": "stream",
          "name": "stdout",
          "text": [
            "Enter the Number: 12345\n",
            "\n",
            "Total Digit: \n",
            "5\n"
          ]
        }
      ]
    },
    {
      "cell_type": "markdown",
      "source": [
        "## Program to find sum of digits in a number\n",
        "- **Read a number from user**\n",
        "- **Select each element by using below formula**\n",
        "$$rem = num%10$$\n",
        "$$rev = rem + (rev*10)$$\n",
        "$$ num = num//10$$\n",
        "- **Add each number**\n",
        "- **Display the sum**"
      ],
      "metadata": {
        "id": "LCpDPbkxuv0K"
      }
    },
    {
      "cell_type": "code",
      "source": [
        "num = int(input(\"Enter a Number\"))\n",
        "sum = 0\n",
        "while num>0:\n",
        "    rem = num%10\n",
        "    sum = sum+rem\n",
        "    num = num//10\n",
        "print(\"\\nSum of Digits of Given Number: \", sum)"
      ],
      "metadata": {
        "colab": {
          "base_uri": "https://localhost:8080/"
        },
        "id": "4Uy1GdK4u0Ik",
        "outputId": "f083d3e5-3daa-420c-9789-81d009ec29d7"
      },
      "execution_count": null,
      "outputs": [
        {
          "output_type": "stream",
          "name": "stdout",
          "text": [
            "Enter a Number7589\n",
            "\n",
            "Sum of Digits of Given Number:  29\n"
          ]
        }
      ]
    },
    {
      "cell_type": "markdown",
      "source": [
        "## Program to find the sum of first and last digit of a number\n",
        "- **Read a number from user**\n",
        "- **Select each element in a number by using below formula**\n",
        "$$rem = num%10$$\n",
        "$$rev = rem + (rev*10)$$\n",
        "$$ num = num//10$$\n",
        "- **Use a count flag to select the last number and iterate the number until $0$ using `while` to find the 1st number**\n",
        "- **Display the sum of those**"
      ],
      "metadata": {
        "id": "u0mGKD8zvTE2"
      }
    },
    {
      "cell_type": "code",
      "source": [
        "num = int(input(\"Enter a Number: \"))\n",
        "\n",
        "count = 0\n",
        "while num!=0:\n",
        "    if count==0:\n",
        "        last = num%10\n",
        "        count = count+1\n",
        "    rem = num%10\n",
        "    num = int(num/10)\n",
        "\n",
        "sum = rem + last\n",
        "print(\"\\nSum of first and last digit =\", sum)"
      ],
      "metadata": {
        "id": "CSriuS_ivY6A"
      },
      "execution_count": null,
      "outputs": []
    },
    {
      "cell_type": "markdown",
      "source": [
        "## Program to print first and last digit of a number\n",
        "- **Read a number from user**\n",
        "- **Select each element in a number by using below formula**\n",
        "$$rem = num%10$$\n",
        "$$rev = rem + (rev*10)$$\n",
        "$$ num = num//10$$\n",
        "- **Use a count flag to select the last number and iterate the number until $0$ using `while` to find the 1st number**\n",
        "- **Display the both of those**"
      ],
      "metadata": {
        "id": "smVhW0qbvOO0"
      }
    },
    {
      "cell_type": "code",
      "source": [
        "num = int(input(\"Enter a Number: \"))\n",
        "org=num\n",
        "count = 0\n",
        "while num!=0:\n",
        "    if count==0:\n",
        "        last = num%10\n",
        "        count = count+1\n",
        "    rem = num%10\n",
        "    num = num//10\n",
        "FL=[rem,last]\n",
        "print(\"\\nThe first and last digit of \", org ,\" are: \", FL)"
      ],
      "metadata": {
        "colab": {
          "base_uri": "https://localhost:8080/"
        },
        "id": "1_Z5qGQUvgou",
        "outputId": "e8dc0673-cac2-4aac-d6a9-35d197aa410f"
      },
      "execution_count": null,
      "outputs": [
        {
          "output_type": "stream",
          "name": "stdout",
          "text": [
            "Enter a Number: 786\n",
            "\n",
            "The first and last digit of  786  are:  [7, 6]\n"
          ]
        }
      ]
    },
    {
      "cell_type": "markdown",
      "source": [
        "## Python program to display even and odd members in a tuple\n",
        "- **Read a number from user**\n",
        "- **Use `[start:end:jump]` select the objects at even and odd indexs and append them to a corresponding list variable**\n",
        "- **Display the lists**"
      ],
      "metadata": {
        "id": "R-_QxAxvzqHJ"
      }
    },
    {
      "cell_type": "code",
      "source": [
        "\"\"\"\n",
        "Python Program:\n",
        " Using slice [] operator to iterate over a specific parts of a tuple to print odd and even members\n",
        "\"\"\"\n",
        "even=[];odd=[]\n",
        "tuple_created = (\"p\", \"r\", \"o\", \"g\", \"r\", \"a\", \"m\", \"i\", \"z\")\n",
        "for char in tuple_created[ :  : 2]:\n",
        "   even.append(char)\n",
        "for char in tuple_created[1 :  : 2]:\n",
        "   odd.append(char)\n",
        "print(\"Even members: \",even,\"\\nOdd members: \",odd)\n"
      ],
      "metadata": {
        "colab": {
          "base_uri": "https://localhost:8080/"
        },
        "id": "vuDNoBYXzweI",
        "outputId": "7fe481bc-89db-4c3c-9b41-f36b5d264546"
      },
      "execution_count": null,
      "outputs": [
        {
          "output_type": "stream",
          "name": "stdout",
          "text": [
            "Even members:  ['p', 'o', 'r', 'm', 'z'] \n",
            "Odd members:  ['r', 'g', 'a', 'i']\n"
          ]
        }
      ]
    },
    {
      "cell_type": "markdown",
      "source": [
        "## Program to create  a book shop stock register using python dictionary\n",
        "- **Read the number of books**\n",
        "- **Read each title of books and number of copies and store it as a `key:value` pair using dictionaries**\n",
        "- **Prompt the user to check if they want to return/sell a book**\n"
      ],
      "metadata": {
        "id": "Fdk3KUDi2uIB"
      }
    },
    {
      "cell_type": "code",
      "source": [
        "n = eval(input('Num books: '))\n",
        "books = {}\n",
        "for i in range(n):\n",
        "    titlez = input(\"Enter Title: \")\n",
        "    ncopy = eval(input(\"Num of copies: \"))\n",
        "    books[titlez] = ncopy\n",
        "\n",
        "prob = input('Sell a book; enter YES or NO: ')\n",
        "if prob == 'YES' or 'yes':\n",
        "    choice = input('Enter book title: ')\n",
        "    if choice in books:\n",
        "        init_num = books[choice]\n",
        "        init_num -= 1\n",
        "        books[choice] = init_num\n",
        "        print(books)"
      ],
      "metadata": {
        "colab": {
          "base_uri": "https://localhost:8080/"
        },
        "id": "raSpV8kR284D",
        "outputId": "760cc849-4ba2-439c-be04-dc399dee8766"
      },
      "execution_count": null,
      "outputs": [
        {
          "output_type": "stream",
          "name": "stdout",
          "text": [
            "Num books: 2\n",
            "Enter Title: Calculus\n",
            "Num of copies: 5\n",
            "Enter Title: Linear Algebra\n",
            "Num of copies: 5\n",
            "Sell a book; enter YES or NO: yes\n",
            "Enter book title: Calculus\n",
            "{'Calculus': 4, 'Linear Algebra': 5}\n"
          ]
        }
      ]
    },
    {
      "cell_type": "markdown",
      "source": [
        ">**To remove a book from the stock**"
      ],
      "metadata": {
        "id": "Va8mV5v43jqF"
      }
    },
    {
      "cell_type": "code",
      "source": [
        "to_rem = input('Want to remove a book from the stock? YES or NO ')\n",
        "if to_rem == 'YES' or 'yes':\n",
        "    choice = input('Enter book title: ')\n",
        "    if choice in books:\n",
        "        books.pop(choice)\n",
        "        print(books)"
      ],
      "metadata": {
        "id": "hJ7pwxJH3rFS",
        "colab": {
          "base_uri": "https://localhost:8080/"
        },
        "outputId": "121d5599-767b-472d-b730-eef20fd87bb5"
      },
      "execution_count": null,
      "outputs": [
        {
          "output_type": "stream",
          "name": "stdout",
          "text": [
            "Want to remove a book from the stock? YES or NO yes\n",
            "Enter book title: 5\n",
            "{'Calculus': 4, 'Linear Algebra': 5, 'Thomas calculus': 3}\n"
          ]
        }
      ]
    },
    {
      "cell_type": "markdown",
      "source": [
        ">**To add a book to the stock**"
      ],
      "metadata": {
        "id": "NjTb4dV94hOp"
      }
    },
    {
      "cell_type": "code",
      "source": [
        "to_add = input('Want to add a book to the stock? YES or NO ')\n",
        "if to_add == 'YES' or 'yes':\n",
        "    choice = input('Enter book title: ')\n",
        "    nc=eval(input('Number of copies:'))\n",
        "    books[choice]=nc\n",
        "print(books)"
      ],
      "metadata": {
        "colab": {
          "base_uri": "https://localhost:8080/"
        },
        "id": "CRKVHdhx4qbW",
        "outputId": "df1587fd-5179-4e90-a120-307f172d4626"
      },
      "execution_count": null,
      "outputs": [
        {
          "output_type": "stream",
          "name": "stdout",
          "text": [
            "Want to add a book to the stock? YES or NO yes\n",
            "Enter book title: Thomas calculus\n",
            "Number of copies:3\n",
            "{'Calculus': 4, 'Linear Algebra': 5, '5': 2, 'Thomas calculus': 3}\n"
          ]
        }
      ]
    },
    {
      "cell_type": "markdown",
      "source": [
        "## Program to check validity of an email ID by verifying its structure\n",
        "- **Read the email id to check**\n",
        "- **Import `re` module and use `re.match()` to check if entered email matches required pattern**\n",
        "- **Display if the email is valid or not**"
      ],
      "metadata": {
        "id": "-3p4ILRKdYUz"
      }
    },
    {
      "cell_type": "code",
      "source": [
        "import re\n",
        "\n",
        "def verify(s):\n",
        "   pat = \"^[a-zA-Z0-9-._]+@[a-zA-Z0-9.]+\\.[a-z]{2,3}$\"\n",
        "   if re.match(pat,s):\n",
        "      return True\n",
        "   return False\n",
        "   \n",
        "s = \"siju.swamy@gihub.ac.in\"\n",
        "print(verify(s))\n"
      ],
      "metadata": {
        "id": "c2ugMruLdhWo"
      },
      "execution_count": null,
      "outputs": []
    },
    {
      "cell_type": "markdown",
      "source": [
        "## Factorial\n",
        "- **Read the number to find factorial**\n",
        "- **Check invalid states (Entered number being negative or 0) using `if-else`**\n",
        "- **Use `for` to iteratively decrease and multiply the entered number until it is zero**\n",
        "- **Display the product**"
      ],
      "metadata": {
        "id": "cbImEuNxSbT-"
      }
    },
    {
      "cell_type": "code",
      "source": [
        "# Python program to find the factorial of a number provided by the user.\n",
        "\n",
        "# change the value for a different result\n",
        "num = 7\n",
        "\n",
        "# To take input from the user\n",
        "#num = int(input(\"Enter a number: \"))\n",
        "\n",
        "factorial = 1\n",
        "\n",
        "# check if the number is negative, positive or zero\n",
        "if num < 0:\n",
        "   print(\"Sorry, factorial does not exist for negative numbers\")\n",
        "elif num == 0:\n",
        "   print(\"The factorial of 0 is 1\")\n",
        "else:\n",
        "   for i in range(1,num + 1):\n",
        "       factorial = factorial*i\n",
        "   print(\"The factorial of\",num,\"is\",factorial)"
      ],
      "metadata": {
        "colab": {
          "base_uri": "https://localhost:8080/"
        },
        "id": "1dJehoOMSdNu",
        "outputId": "f7a904ca-465f-4a75-da2b-b6bb24102c14"
      },
      "execution_count": null,
      "outputs": [
        {
          "output_type": "stream",
          "name": "stdout",
          "text": [
            "The factorial of 7 is 5040\n"
          ]
        }
      ]
    },
    {
      "cell_type": "markdown",
      "source": [
        "## Factorial with regression\n",
        "- **Read the number to find factorial**\n",
        "- **Check invalid states (Entered number being negative or 0) using `if-else`**\n",
        "- **Use `recursion` to iteratively decrease and multiply the entered number until it is zero**\n",
        "- **Display the product**"
      ],
      "metadata": {
        "id": "JDmlGF7NSpV2"
      }
    },
    {
      "cell_type": "code",
      "source": [
        "# Python program to find the factorial of a number provided by the user\n",
        "# using recursion\n",
        "\n",
        "def factorial(x):\n",
        "    \"\"\"This is a recursive function\n",
        "    to find the factorial of an integer\"\"\"\n",
        "\n",
        "    if x == 1:\n",
        "        return 1\n",
        "    else:\n",
        "        # recursive call to the function\n",
        "        return (x * factorial(x-1))\n",
        "\n",
        "\n",
        "# change the value for a different result\n",
        "num = 7\n",
        "\n",
        "# to take input from the user\n",
        "# num = int(input(\"Enter a number: \"))\n",
        "\n",
        "# call the factorial function\n",
        "result = factorial(num)\n",
        "print(\"The factorial of\", num, \"is\", result)"
      ],
      "metadata": {
        "colab": {
          "base_uri": "https://localhost:8080/"
        },
        "id": "HqPTf1N7SidW",
        "outputId": "fa00490d-99c9-43c3-fa05-f5afe6f218fa"
      },
      "execution_count": null,
      "outputs": [
        {
          "output_type": "stream",
          "name": "stdout",
          "text": [
            "The factorial of 7 is 5040\n"
          ]
        }
      ]
    },
    {
      "cell_type": "markdown",
      "source": [
        "## Check prime\n",
        "- **Read the number to find factorial**\n",
        "- **Check invalid states (Entered number being 1 or 0) using `if-else`**\n",
        "- **Use `for` to iteratively increase and divide the entered number by numbers ranging from $2$ to $number$.**\n",
        "- **Display the output**"
      ],
      "metadata": {
        "id": "qjSAwtSeS09e"
      }
    },
    {
      "cell_type": "code",
      "source": [
        "# Program to check if a number is prime or not\n",
        "\n",
        "num = 29\n",
        "\n",
        "# To take input from the user\n",
        "#num = int(input(\"Enter a number: \"))\n",
        "\n",
        "# define a flag variable\n",
        "flag = False\n",
        "\n",
        "if num == 1:\n",
        "    print(num, \"is not a prime number\")\n",
        "elif num > 1:\n",
        "    # check for factors\n",
        "    for i in range(2, num):\n",
        "        if (num % i) == 0:\n",
        "            # if factor is found, set flag to True\n",
        "            flag = True\n",
        "            # break out of loop\n",
        "            break\n",
        "\n",
        "    # check if flag is True\n",
        "    if flag:\n",
        "        print(num, \"is not a prime number\")\n",
        "    else:\n",
        "        print(num, \"is a prime number\")"
      ],
      "metadata": {
        "colab": {
          "base_uri": "https://localhost:8080/"
        },
        "id": "aJH993DVS3zu",
        "outputId": "43f395c0-26bc-44f9-f4a6-0dccaf885746"
      },
      "execution_count": null,
      "outputs": [
        {
          "output_type": "stream",
          "name": "stdout",
          "text": [
            "29 is a prime number\n"
          ]
        }
      ]
    },
    {
      "cell_type": "markdown",
      "source": [
        "## prime check- method 2\n",
        "- **Read the number to find factorial**\n",
        "- **Check invalid states (Entered number being 1 or 0) using `if-else`**\n",
        "- **Use `for` to iteratively increase and divide the entered number by numbers ranging from $2$ to $number$.**\n",
        "- **Display the output**\n"
      ],
      "metadata": {
        "id": "g0x-F1X0S_mm"
      }
    },
    {
      "cell_type": "code",
      "source": [
        "num = 407\n",
        "\n",
        "# To take input from the user\n",
        "#num = int(input(\"Enter a number: \"))\n",
        "\n",
        "if num == 1:\n",
        "    print(num, \"is not a prime number\")\n",
        "elif num > 1:\n",
        "   # check for factors\n",
        "   for i in range(2,num):\n",
        "       if (num % i) == 0:\n",
        "           print(num,\"is not a prime number\")\n",
        "           print(i,\"times\",num//i,\"is\",num)\n",
        "           break\n",
        "   else:\n",
        "       print(num,\"is a prime number\")\n",
        "       \n",
        "# if input number is less than\n",
        "# or equal to 1, it is not prime\n",
        "else:\n",
        "   print(num,\"is not a prime number\")"
      ],
      "metadata": {
        "colab": {
          "base_uri": "https://localhost:8080/"
        },
        "id": "pcDcKDCGTDvm",
        "outputId": "fcd77a81-2227-4e17-e0cd-d0d4fd5e8e64"
      },
      "execution_count": null,
      "outputs": [
        {
          "output_type": "stream",
          "name": "stdout",
          "text": [
            "407 is not a prime number\n",
            "11 times 37 is 407\n"
          ]
        }
      ]
    },
    {
      "cell_type": "markdown",
      "source": [
        "## Display prime numbers in a range\n",
        "- **Read lower and upped limits of the range**\n",
        "- **Find the prime numbers between the lower and upper using earlier method**\n",
        "- **Display each one found**"
      ],
      "metadata": {
        "id": "AaE8XbGMTJwG"
      }
    },
    {
      "cell_type": "code",
      "source": [
        "# Python program to display all the prime numbers within an interval\n",
        "\n",
        "lower = 900\n",
        "upper = 1000\n",
        "\n",
        "print(\"Prime numbers between\", lower, \"and\", upper, \"are:\")\n",
        "\n",
        "for num in range(lower, upper + 1):\n",
        "   # all prime numbers are greater than 1\n",
        "   if num > 1:\n",
        "       for i in range(2, num):\n",
        "           if (num % i) == 0:\n",
        "               break\n",
        "       else:\n",
        "           print(num)"
      ],
      "metadata": {
        "colab": {
          "base_uri": "https://localhost:8080/"
        },
        "id": "ofYjMnRJTNyG",
        "outputId": "4cc472da-92f5-4b69-8885-ef62c580f493"
      },
      "execution_count": null,
      "outputs": [
        {
          "output_type": "stream",
          "name": "stdout",
          "text": [
            "Prime numbers between 900 and 1000 are:\n",
            "907\n",
            "911\n",
            "919\n",
            "929\n",
            "937\n",
            "941\n",
            "947\n",
            "953\n",
            "967\n",
            "971\n",
            "977\n",
            "983\n",
            "991\n",
            "997\n"
          ]
        }
      ]
    },
    {
      "cell_type": "markdown",
      "source": [
        "## check amstrong number\n",
        "- **Read lower and upped limits of the range**\n",
        "- **Find the amstrong numbers between the lower and upper using a `while` loop to find the sum of elements in the number and check if the number is same as sum of its digits**\n",
        "- **Display each one found**"
      ],
      "metadata": {
        "id": "ECgPlR3yTVhN"
      }
    },
    {
      "cell_type": "code",
      "source": [
        "# Program to check Armstrong numbers in a certain interval\n",
        "\n",
        "lower = 100\n",
        "upper = 2000\n",
        "\n",
        "for num in range(lower, upper + 1):\n",
        "\n",
        "   # order of number\n",
        "   order = len(str(num))\n",
        "    \n",
        "   # initialize sum\n",
        "   sum = 0\n",
        "\n",
        "   temp = num\n",
        "   while temp > 0:\n",
        "       digit = temp % 10\n",
        "       sum += digit ** order\n",
        "       temp //= 10\n",
        "\n",
        "   if num == sum:\n",
        "       print(num)"
      ],
      "metadata": {
        "colab": {
          "base_uri": "https://localhost:8080/"
        },
        "id": "Osy2PPiGTUt9",
        "outputId": "156142b7-c37a-4e5c-e340-6905f08495b5"
      },
      "execution_count": null,
      "outputs": [
        {
          "output_type": "stream",
          "name": "stdout",
          "text": [
            "153\n",
            "370\n",
            "371\n",
            "407\n",
            "1634\n"
          ]
        }
      ]
    },
    {
      "cell_type": "markdown",
      "source": [
        "## check for anagrams\n",
        "- **Read strings**\n",
        "- **Sort strings**\n",
        "- **`if-else` to check if sorted are the same\n",
        "- **Display the output**"
      ],
      "metadata": {
        "id": "hkXtBisdTqA-"
      }
    },
    {
      "cell_type": "code",
      "source": [
        "str1 = \"Race\"\n",
        "str2 = \"Care\"\n",
        "\n",
        "# convert both the strings into lowercase\n",
        "str1 = str1.lower()\n",
        "str2 = str2.lower()\n",
        "\n",
        "# check if length is same\n",
        "if(len(str1) == len(str2)):\n",
        "\n",
        "    # sort the strings\n",
        "    sorted_str1 = sorted(str1)\n",
        "    sorted_str2 = sorted(str2)\n",
        "\n",
        "    # if sorted char arrays are same\n",
        "    if(sorted_str1 == sorted_str2):\n",
        "        print(str1 + \" and \" + str2 + \" are anagram.\")\n",
        "    else:\n",
        "        print(str1 + \" and \" + str2 + \" are not anagram.\")\n",
        "\n",
        "else:\n",
        "    print(str1 + \" and \" + str2 + \" are not anagram.\")"
      ],
      "metadata": {
        "colab": {
          "base_uri": "https://localhost:8080/"
        },
        "id": "Y06GUt-KTue-",
        "outputId": "1584f3d9-a5ac-435b-c416-d8bf72642ab5"
      },
      "execution_count": 13,
      "outputs": [
        {
          "output_type": "stream",
          "name": "stdout",
          "text": [
            "race and care are anagram.\n"
          ]
        }
      ]
    },
    {
      "cell_type": "markdown",
      "source": [
        "## capitalize first word"
      ],
      "metadata": {
        "id": "A_4BJ_OrT8O-"
      }
    },
    {
      "cell_type": "code",
      "source": [
        "my_string = \"programiz is Lit\"\n",
        "\n",
        "print(my_string[0].upper() + my_string[1:])"
      ],
      "metadata": {
        "colab": {
          "base_uri": "https://localhost:8080/"
        },
        "id": "TzDbDL2ST--W",
        "outputId": "32cc5798-d705-43e8-ecb0-dd687001309d"
      },
      "execution_count": 14,
      "outputs": [
        {
          "output_type": "stream",
          "name": "stdout",
          "text": [
            "Programiz is Lit\n"
          ]
        }
      ]
    },
    {
      "cell_type": "markdown",
      "source": [
        "## alphabet counting-1 with loop"
      ],
      "metadata": {
        "id": "r-fAFrn9UJ0G"
      }
    },
    {
      "cell_type": "code",
      "source": [
        "count = 0\n",
        "\n",
        "my_string = \"Programiz\"\n",
        "my_char = \"r\"\n",
        "\n",
        "for i in my_string:\n",
        "    if i == my_char:\n",
        "        count += 1\n",
        "\n",
        "print(count)"
      ],
      "metadata": {
        "colab": {
          "base_uri": "https://localhost:8080/"
        },
        "id": "6mVeWfvqUMtW",
        "outputId": "c5f23934-c89b-48a1-efc7-7eef3b6a438a"
      },
      "execution_count": null,
      "outputs": [
        {
          "output_type": "stream",
          "name": "stdout",
          "text": [
            "2\n"
          ]
        }
      ]
    },
    {
      "cell_type": "markdown",
      "source": [
        "## alphabet count with `.count()` function"
      ],
      "metadata": {
        "id": "DDZysEVUUTzO"
      }
    },
    {
      "cell_type": "code",
      "source": [
        "my_string = \"Programiz\"\n",
        "my_char = \"r\"\n",
        "\n",
        "print(my_string.count(my_char))"
      ],
      "metadata": {
        "colab": {
          "base_uri": "https://localhost:8080/"
        },
        "id": "oT7hqG6vUZA2",
        "outputId": "14cc9011-57d5-40d7-b207-08c17b881c31"
      },
      "execution_count": null,
      "outputs": [
        {
          "output_type": "stream",
          "name": "stdout",
          "text": [
            "2\n"
          ]
        }
      ]
    },
    {
      "cell_type": "markdown",
      "source": [
        "## counting occurance in a list"
      ],
      "metadata": {
        "id": "-9WftgBIUhoe"
      }
    },
    {
      "cell_type": "code",
      "source": [
        "freq = ['a', 1, 'a', 4, 3, 2, 'a'].count('a')\n",
        "print(freq)"
      ],
      "metadata": {
        "colab": {
          "base_uri": "https://localhost:8080/"
        },
        "id": "jeOt_mjAUkcH",
        "outputId": "0995cf5d-65f3-46c8-f3e0-110b45cf3637"
      },
      "execution_count": null,
      "outputs": [
        {
          "output_type": "stream",
          "name": "stdout",
          "text": [
            "3\n"
          ]
        }
      ]
    },
    {
      "cell_type": "markdown",
      "source": [
        "## counting number of vowels"
      ],
      "metadata": {
        "id": "q_JEDbybUp4n"
      }
    },
    {
      "cell_type": "code",
      "source": [
        "# Program to count the number of each vowels\n",
        "\n",
        "# string of vowels\n",
        "vowels = 'aeiou'\n",
        "\n",
        "ip_str = 'Hello, have you tried our tutorial section yet?'\n",
        "\n",
        "# make it suitable for caseless comparisions\n",
        "ip_str = ip_str.casefold()\n",
        "\n",
        "# make a dictionary with each vowel a key and value 0\n",
        "count = {}.fromkeys(vowels,0)\n",
        "\n",
        "# count the vowels\n",
        "for char in ip_str:\n",
        "   if char in count:\n",
        "       count[char] += 1\n",
        "\n",
        "print(count)"
      ],
      "metadata": {
        "colab": {
          "base_uri": "https://localhost:8080/"
        },
        "id": "6p6ar8-pUsqv",
        "outputId": "cfbdd111-9c51-40af-8ffb-1f5ba3a365d4"
      },
      "execution_count": null,
      "outputs": [
        {
          "output_type": "stream",
          "name": "stdout",
          "text": [
            "{'a': 2, 'e': 5, 'i': 3, 'o': 5, 'u': 3}\n"
          ]
        }
      ]
    },
    {
      "cell_type": "markdown",
      "source": [
        "## program to count, lines, words and special characters stored in a file"
      ],
      "metadata": {
        "id": "wt897tqWCbfP"
      }
    },
    {
      "cell_type": "code",
      "source": [
        "with open('File1.txt', 'w') as file2:\n",
        "\n",
        "    # write contents to the test2.txt file\n",
        "    file2.write('Programming is Fun in 100 days.\\n')\n",
        "    file2.write('Programiz for beginners')\n",
        "    file2.close()"
      ],
      "metadata": {
        "id": "UERg9y3EMnKl"
      },
      "execution_count": null,
      "outputs": []
    },
    {
      "cell_type": "code",
      "source": [
        "# Python implementation to compute\n",
        "# number of characters, words, spaces\n",
        "# and lines in a file\n",
        "\n",
        "# Function to count number\n",
        "# of characters, words, spaces\n",
        "# and lines in a file\n",
        "def counter(fname):\n",
        "\n",
        "\t# variable to store total word count\n",
        "\tnum_words = 0\n",
        "\t\n",
        "\t# variable to store total line count\n",
        "\tnum_lines = 0\n",
        "\t\n",
        "\t# variable to store total character count\n",
        "\tnum_charc = 0\n",
        "\t\n",
        "\t# variable to store total space count\n",
        "\tnum_spaces = 0\n",
        "\t\n",
        "\t# opening file using with() method\n",
        "\t# so that file gets closed\n",
        "\t# after completion of work\n",
        "\twith open(fname, 'r') as f:\n",
        "\t\t\n",
        "\t\t# loop to iterate file\n",
        "\t\t# line by line\n",
        "\t\tfor line in f:\n",
        "\t\t\t\n",
        "\t\t\t# incrementing value of\n",
        "\t\t\t# num_lines with each\n",
        "\t\t\t# iteration of loop to\n",
        "\t\t\t# store total line count\n",
        "\t\t\tnum_lines += 1\n",
        "\t\t\t\n",
        "\t\t\t# declaring a variable word\n",
        "\t\t\t# and assigning its value as Y\n",
        "\t\t\t# because every file is\n",
        "\t\t\t# supposed to start with\n",
        "\t\t\t# a word or a character\n",
        "\t\t\tword = 'Y'\n",
        "\t\t\t\n",
        "\t\t\t# loop to iterate every\n",
        "\t\t\t# line letter by letter\n",
        "\t\t\tfor letter in line:\n",
        "\t\t\t\t\n",
        "\t\t\t\t# condition to check\n",
        "\t\t\t\t# that the encountered character\n",
        "\t\t\t\t# is not white space and a word\n",
        "\t\t\t\tif (letter != ' ' and word == 'Y'):\n",
        "\t\t\t\t\t\n",
        "\t\t\t\t\t# incrementing the word\n",
        "\t\t\t\t\t# count by 1\n",
        "\t\t\t\t\tnum_words += 1\n",
        "\t\t\t\t\t\n",
        "\t\t\t\t\t# assigning value N to\n",
        "\t\t\t\t\t# variable word because until\n",
        "\t\t\t\t\t# space will not encounter\n",
        "\t\t\t\t\t# a word can not be completed\n",
        "\t\t\t\t\tword = 'N'\n",
        "\t\t\t\t\t\n",
        "\t\t\t\t# condition to check\n",
        "\t\t\t\t# that the encountered character\n",
        "\t\t\t\t# is a white space\n",
        "\t\t\t\telif (letter == ' '):\n",
        "\t\t\t\t\t\n",
        "\t\t\t\t\t# incrementing the space\n",
        "\t\t\t\t\t# count by 1\n",
        "\t\t\t\t\tnum_spaces += 1\n",
        "\t\t\t\t\t\n",
        "\t\t\t\t\t# assigning value Y to\n",
        "\t\t\t\t\t# variable word because after\n",
        "\t\t\t\t\t# white space a word\n",
        "\t\t\t\t\t# is supposed to occur\n",
        "\t\t\t\t\tword = 'Y'\n",
        "\t\t\t\t\t\n",
        "\t\t\t\t# loop to iterate every\n",
        "\t\t\t\t# letter character by\n",
        "\t\t\t\t# character\n",
        "\t\t\t\tfor i in letter:\n",
        "\t\t\t\t\t\n",
        "\t\t\t\t\t# condition to check\n",
        "\t\t\t\t\t# that the encountered character\n",
        "\t\t\t\t\t# is not white space and not\n",
        "\t\t\t\t\t# a newline character\n",
        "\t\t\t\t\tif(i !=\" \" and i !=\"\\n\"):\n",
        "\t\t\t\t\t\t\n",
        "\t\t\t\t\t\t# incrementing character\n",
        "\t\t\t\t\t\t# count by 1\n",
        "\t\t\t\t\t\tnum_charc += 1\n",
        "\t\t\t\t\t\t\n",
        "\t# printing total word count\n",
        "\tprint(\"Number of words in text file: \",\n",
        "\t\tnum_words)\n",
        "\t\n",
        "\t# printing total line count\n",
        "\tprint(\"Number of lines in text file: \",\n",
        "\t\tnum_lines)\n",
        "\t\n",
        "\t# printing total character count\n",
        "\tprint('Number of characters in text file: ',\n",
        "\t\tnum_charc)\n",
        "\t\n",
        "\t# printing total space count\n",
        "\tprint('Number of spaces in text file: ',\n",
        "\t\tnum_spaces)\n",
        "\t\n",
        "# Driver Code:\n",
        "if __name__ == '__main__':\n",
        "\tfname = 'File1.txt'\n",
        "\ttry:\n",
        "\t\tcounter(fname)\n",
        "\texcept:\n",
        "\t\tprint('File not found')\n"
      ],
      "metadata": {
        "colab": {
          "base_uri": "https://localhost:8080/"
        },
        "id": "73X_rqTUCl0V",
        "outputId": "6872b068-7ab4-4f07-b0a1-5d53b6426f0f"
      },
      "execution_count": null,
      "outputs": [
        {
          "output_type": "stream",
          "name": "stdout",
          "text": [
            "Number of words in text file:  9\n",
            "Number of lines in text file:  2\n",
            "Number of characters in text file:  47\n",
            "Number of spaces in text file:  7\n"
          ]
        }
      ]
    }
  ]
}