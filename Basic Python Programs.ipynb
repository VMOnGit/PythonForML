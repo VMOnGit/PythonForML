{
  "nbformat": 4,
  "nbformat_minor": 0,
  "metadata": {
    "colab": {
      "provenance": [],
      "authorship_tag": "ABX9TyP5cCkU/0PRbfM2FhSvXHHc",
      "include_colab_link": true
    },
    "kernelspec": {
      "name": "python3",
      "display_name": "Python 3"
    },
    "language_info": {
      "name": "python"
    }
  },
  "cells": [
    {
      "cell_type": "markdown",
      "metadata": {
        "id": "view-in-github",
        "colab_type": "text"
      },
      "source": [
        "<a href=\"https://colab.research.google.com/github/VMOnGit/PythonForML/blob/main/Basic%20Python%20Programs.ipynb\" target=\"_parent\"><img src=\"https://colab.research.google.com/assets/colab-badge.svg\" alt=\"Open In Colab\"/></a>"
      ]
    },
    {
      "cell_type": "markdown",
      "metadata": {
        "id": "yqwQV01-wzS5"
      },
      "source": [
        "## `Numpy`- Numerical Python\n",
        "\n",
        "> The python library for basic array operations.\n",
        "\n",
        "### Basics\n",
        "\n",
        "This section will present several examples of using NumPy array manipulation to access data and subarrays, and to split, reshape, and join the arrays.\n",
        "While the types of operations shown here may seem a bit dry and pedantic, they comprise the building blocks of many other examples used throughout the book.\n",
        "Get to know them well!\n",
        "\n",
        "We'll cover a few categories of basic array manipulations here:\n",
        "\n",
        "- *Attributes of arrays*: Determining the size, shape, memory consumption, and data types of arrays\n",
        "- *Indexing of arrays*: Getting and setting the value of individual array elements\n",
        "- *Slicing of arrays*: Getting and setting smaller subarrays within a larger array\n",
        "- *Reshaping of arrays*: Changing the shape of a given array\n",
        "- *Joining and splitting of arrays*: Combining multiple arrays into one, and splitting one array into many"
      ]
    },
    {
      "cell_type": "markdown",
      "metadata": {
        "id": "pLuCaty1x2vc"
      },
      "source": [
        "## `NumPy` Array Attributes\n",
        "\n",
        "First let's discuss some useful array attributes.\n",
        "\n",
        "We'll start by defining three random arrays, a one-dimensional, two-dimensional, and three-dimensional array.\n",
        "\n",
        "We'll use `NumPy`'s random number generator, which we will *seed* with a set value in order to ensure that the same random arrays are generated each time this code is run:"
      ]
    },
    {
      "cell_type": "markdown",
      "metadata": {
        "id": "HSt0S2X6zf2X"
      },
      "source": [
        "### Loading `numpy` to a python programme\n",
        "\n",
        ">Syntax \n",
        "\n",
        "```\n",
        "import numpy as <<\"name of instance\">>\n",
        "\n",
        "```\n",
        "\n",
        "eg: ``` import numpy as np```"
      ]
    },
    {
      "cell_type": "markdown",
      "metadata": {
        "id": "TSqZWeNh09k_"
      },
      "source": [
        "## Define different types of `numpy` arrays"
      ]
    },
    {
      "cell_type": "code",
      "execution_count": null,
      "metadata": {
        "id": "vdOlq08z1DhC"
      },
      "outputs": [],
      "source": [
        "#np.random.seed(0)  # seed for reproducibility\n",
        "\n",
        "x1 = np.random.randint(10, size=6)  # One-dimensional array\n",
        "x2 = np.random.randint(10, size=(3, 4))  # Two-dimensional array\n",
        "x3 = np.random.randint(10, size=(3, 4, 5))  # Three-dimensional array"
      ]
    },
    {
      "cell_type": "code",
      "execution_count": null,
      "metadata": {
        "colab": {
          "base_uri": "https://localhost:8080/"
        },
        "id": "siq1z0-s4JAv",
        "outputId": "366a739e-4dc2-4c8a-effb-5070efe699e0"
      },
      "outputs": [
        {
          "name": "stdout",
          "output_type": "stream",
          "text": [
            "[8 5 4 7 4 1]\n"
          ]
        }
      ],
      "source": [
        "print(x1)"
      ]
    },
    {
      "cell_type": "code",
      "execution_count": null,
      "metadata": {
        "colab": {
          "base_uri": "https://localhost:8080/"
        },
        "id": "KNOhd8Ln5ZSn",
        "outputId": "f3136126-d29c-43c7-d5ef-368244a362d9"
      },
      "outputs": [
        {
          "name": "stdout",
          "output_type": "stream",
          "text": [
            "[[3 3 9 2]\n",
            " [5 2 3 5]\n",
            " [7 2 7 1]]\n"
          ]
        }
      ],
      "source": [
        "print(x2)"
      ]
    },
    {
      "cell_type": "code",
      "execution_count": null,
      "metadata": {
        "colab": {
          "base_uri": "https://localhost:8080/"
        },
        "id": "PAcwUovk5jmT",
        "outputId": "350a0a95-45ca-4cb9-f566-0c3ba225dc1b"
      },
      "outputs": [
        {
          "name": "stdout",
          "output_type": "stream",
          "text": [
            "[[[6 5 0 0 3]\n",
            "  [1 9 9 6 6]\n",
            "  [7 8 8 7 0]\n",
            "  [8 6 8 9 8]]\n",
            "\n",
            " [[3 6 1 7 4]\n",
            "  [9 2 0 8 2]\n",
            "  [7 8 4 4 1]\n",
            "  [7 6 9 4 1]]\n",
            "\n",
            " [[5 9 7 1 3]\n",
            "  [5 7 3 6 6]\n",
            "  [7 9 1 9 6]\n",
            "  [0 3 8 4 1]]]\n"
          ]
        }
      ],
      "source": [
        "print(x3)"
      ]
    },
    {
      "cell_type": "markdown",
      "metadata": {
        "id": "LTo1EKoS6onQ"
      },
      "source": [
        "## Attributes of arrays\n",
        "\n",
        "Each array has attributes ``ndim`` (the number of dimensions), ``shape`` (the size of each dimension), and ``size`` (the total size of the array):"
      ]
    },
    {
      "cell_type": "code",
      "execution_count": null,
      "metadata": {
        "colab": {
          "base_uri": "https://localhost:8080/"
        },
        "id": "-OX61lTg68Ay",
        "outputId": "a5fcf670-e361-48b8-ac67-dccadacd4c70"
      },
      "outputs": [
        {
          "output_type": "stream",
          "name": "stdout",
          "text": [
            "x3 ndim:  3\n",
            "x3 shape: (3, 4, 5)\n",
            "x3 size:  60\n"
          ]
        }
      ],
      "source": [
        "print(\"x3 ndim: \", x3.ndim)\n",
        "print(\"x3 shape:\", x3.shape)\n",
        "print(\"x3 size: \", x3.size)"
      ]
    }
  ]
}