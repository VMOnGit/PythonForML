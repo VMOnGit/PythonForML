{
  "nbformat": 4,
  "nbformat_minor": 0,
  "metadata": {
    "colab": {
      "provenance": [],
      "authorship_tag": "ABX9TyPYhc6Griud3DDwCeZA1k6V",
      "include_colab_link": true
    },
    "kernelspec": {
      "name": "python3",
      "display_name": "Python 3"
    },
    "language_info": {
      "name": "python"
    }
  },
  "cells": [
    {
      "cell_type": "markdown",
      "metadata": {
        "id": "view-in-github",
        "colab_type": "text"
      },
      "source": [
        "<a href=\"https://colab.research.google.com/github/VMOnGit/PythonForML/blob/main/basic_python.ipynb\" target=\"_parent\"><img src=\"https://colab.research.google.com/assets/colab-badge.svg\" alt=\"Open In Colab\"/></a>"
      ]
    },
    {
      "cell_type": "markdown",
      "source": [
        "# Intro to `Python`\n",
        "\n",
        "First program Displays a `hello` prompt"
      ],
      "metadata": {
        "id": "4fVUg_Us7KQj"
      }
    },
    {
      "cell_type": "code",
      "source": [
        "name = input(\"Enter your name:\")\n",
        "print(\"Hello\",name)"
      ],
      "metadata": {
        "id": "bfZRLvjs73yL"
      },
      "execution_count": null,
      "outputs": []
    },
    {
      "cell_type": "code",
      "source": [
        "def switcher(choice):\n",
        "    sum = 0\n",
        "    pro = 1\n",
        "    diff = 0\n",
        "    quo = 1\n",
        "    match choice:\n",
        "        case 1:\n",
        "            n = int(input(\"Enter count of numbers to add:\"))\n",
        "            for i in range(n):\n",
        "                a = int(input(\"Enter number to add:\"))\n",
        "                sum = sum + a\n",
        "            print(\"Sum of entered numbers is\",sum)\n",
        "            main()\n",
        "        case 2:\n",
        "            n = int(input(\"Enter count of numbers to Subtract:\"))\n",
        "            for i in range(n):\n",
        "                a = int(input(\"Enter number to subtract:\"))\n",
        "                diff = diff - a\n",
        "            print(\"Difference of entered numbers is\",sum)\n",
        "            main()\n",
        "        case 3:\n",
        "            n = int(input(\"Enter count of numbers to multiply:\"))\n",
        "            for i in range(n):\n",
        "                a = int(input(\"Enter number to multiply:\"))\n",
        "                pro = pro*a\n",
        "            print(\"Product of entered numbers is\",sum)\n",
        "            main()     \n",
        "        case 4:\n",
        "            n = int(input(\"Enter count of numbers to division:\"))\n",
        "            for i in range(n):\n",
        "                a = int(input(\"Enter number to division:\"))\n",
        "                quo= quo/a\n",
        "            print(\"Quotient of entered numbers is\",sum)\n",
        "            main()\n",
        "        case 0:\n",
        "            main()\n",
        "\n",
        "def main():\n",
        "    choice = int(input(\"Enter 1 for addition,2 for subtraction,3for multiplication,4 for division,0 for quit:\"))\n",
        "    switcher(choice)\n",
        "main()"
      ],
      "metadata": {
        "id": "nvkrnvJS8p1q"
      },
      "execution_count": null,
      "outputs": []
    },
    {
      "cell_type": "code",
      "source": [
        "a = int(input(\"Enter 1st number:\"))\n",
        "b = int(input(\"Enter 2nd number:\"))\n",
        "sum = a+b\n",
        "print(\"Sum is\",sum)"
      ],
      "metadata": {
        "id": "pgbL_wD6_JPy"
      },
      "execution_count": null,
      "outputs": []
    }
  ]
}