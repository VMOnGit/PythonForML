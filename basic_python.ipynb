{
  "nbformat": 4,
  "nbformat_minor": 0,
  "metadata": {
    "colab": {
      "provenance": [],
      "authorship_tag": "ABX9TyMuihVIwzeAqlD5xMNbxxGJ",
      "include_colab_link": true
    },
    "kernelspec": {
      "name": "python3",
      "display_name": "Python 3"
    },
    "language_info": {
      "name": "python"
    }
  },
  "cells": [
    {
      "cell_type": "markdown",
      "metadata": {
        "id": "view-in-github",
        "colab_type": "text"
      },
      "source": [
        "<a href=\"https://colab.research.google.com/github/VMOnGit/PythonForML/blob/main/basic_python.ipynb\" target=\"_parent\"><img src=\"https://colab.research.google.com/assets/colab-badge.svg\" alt=\"Open In Colab\"/></a>"
      ]
    },
    {
      "cell_type": "markdown",
      "source": [
        "# Intro to `Python`\n",
        "\n",
        "First program Displays a `hello` prompt"
      ],
      "metadata": {
        "id": "4fVUg_Us7KQj"
      }
    },
    {
      "cell_type": "markdown",
      "source": [
        "# Helloo World"
      ],
      "metadata": {
        "id": "XTtzKLBQfhdl"
      }
    },
    {
      "cell_type": "code",
      "source": [
        "name = input(\"Enter your name:\")\n",
        "print(\"Hello\",name)"
      ],
      "metadata": {
        "id": "bfZRLvjs73yL"
      },
      "execution_count": null,
      "outputs": []
    },
    {
      "cell_type": "markdown",
      "source": [
        "# Two number sum"
      ],
      "metadata": {
        "id": "FmyKdbX0fwz0"
      }
    },
    {
      "cell_type": "code",
      "source": [
        "a = int(input(\"Enter 1st number:\"))\n",
        "b = int(input(\"Enter 2nd number:\"))\n",
        "sum = a+b\n",
        "print(\"Sum is\",sum)"
      ],
      "metadata": {
        "id": "pgbL_wD6_JPy"
      },
      "execution_count": null,
      "outputs": []
    },
    {
      "cell_type": "markdown",
      "source": [
        "# Extremely Simple calc"
      ],
      "metadata": {
        "id": "GFJEq0bnfk7N"
      }
    },
    {
      "cell_type": "code",
      "source": [
        "def switcher(choice):\n",
        "    sum = 0\n",
        "    pro = 1\n",
        "    diff = 0\n",
        "    quo = 1\n",
        "    match choice:\n",
        "        case 1:\n",
        "            n = int(input(\"Enter count of numbers to add:\"))\n",
        "            for i in range(n):\n",
        "                a = int(input(\"Enter number to add:\"))\n",
        "                sum = sum + a\n",
        "            print(\"Sum of entered numbers is\",sum)\n",
        "            main()\n",
        "        case 2:\n",
        "            n = int(input(\"Enter count of numbers to Subtract:\"))\n",
        "            for i in range(n):\n",
        "                a = int(input(\"Enter number to subtract:\"))\n",
        "                diff = diff - a\n",
        "            print(\"Difference of entered numbers is\",sum)\n",
        "            main()\n",
        "        case 3:\n",
        "            n = int(input(\"Enter count of numbers to multiply:\"))\n",
        "            for i in range(n):\n",
        "                a = int(input(\"Enter number to multiply:\"))\n",
        "                pro = pro*a\n",
        "            print(\"Product of entered numbers is\",sum)\n",
        "            main()     \n",
        "        case 4:\n",
        "            n = int(input(\"Enter count of numbers to division:\"))\n",
        "            for i in range(n):\n",
        "                a = int(input(\"Enter number to division:\"))\n",
        "                quo= quo/a\n",
        "            print(\"Quotient of entered numbers is\",sum)\n",
        "            main()\n",
        "        case 0:\n",
        "            main()\n",
        "\n",
        "def main():\n",
        "    choice = int(input(\"Enter 1 for addition,2 for subtraction,3for multiplication,4 for division,0 for quit:\"))\n",
        "    switcher(choice)\n",
        "main()"
      ],
      "metadata": {
        "id": "nvkrnvJS8p1q"
      },
      "execution_count": null,
      "outputs": []
    },
    {
      "cell_type": "markdown",
      "source": [
        "#Lambda test\n",
        "<body><a href = \"https://www.bing.com/ck/a?!&&p=c6da047e288cf5a1JmltdHM9MTY4NDAyMjQwMCZpZ3VpZD0yMmY4ZGQ5ZC01YWMyLTY3YzktMWQ5Yy1jZThmNWI2ZjY2OWUmaW5zaWQ9NTQ5Ng&ptn=3&hsh=3&fclid=22f8dd9d-5ac2-67c9-1d9c-ce8f5b6f669e&u=a1L3ZpZGVvcy9zZWFyY2g_cT1uZXZlcitnb25uYStnaXZlK3UrdXAmZG9jaWQ9NjAzNDk5MDQwMzM5ODY1NDQ4Jm1pZD03RDQ4QkE1NUEzMzZERkRBOTkzMzdENDhCQTU1QTMzNkRGREE5OTMzJnZpZXc9ZGV0YWlsJkZPUk09VklSRQ&ntb=1\">Lambda</a></body>"
      ],
      "metadata": {
        "id": "L1nWVYA8f0ay"
      }
    },
    {
      "cell_type": "markdown",
      "source": [],
      "metadata": {
        "id": "-579nawJf0Zl"
      }
    },
    {
      "cell_type": "code",
      "source": [
        "x = lambda a, b,c : a * b*c\n",
        "print(x(5, 6, 7))"
      ],
      "metadata": {
        "colab": {
          "base_uri": "https://localhost:8080/"
        },
        "id": "eRFDS7lxc6CE",
        "outputId": "4e5631f0-e152-41c0-f81a-19cdf43258b8"
      },
      "execution_count": 2,
      "outputs": [
        {
          "output_type": "stream",
          "name": "stdout",
          "text": [
            "210\n"
          ]
        }
      ]
    },
    {
      "cell_type": "markdown",
      "source": [
        "#BoReD"
      ],
      "metadata": {
        "id": "g3arpxiVmIYw"
      }
    },
    {
      "cell_type": "code",
      "source": [
        "import random\n",
        "count = 0\n",
        "while(True):\n",
        "    count+=1\n",
        "    a = random.randint(0,50)\n",
        "    b = random.randint(0,30)\n",
        "    if(a == b):\n",
        "        print(\"random equal\",a,b)\n",
        "        break\n",
        "    else:\n",
        "        print(\"random not equal\",a,b)\n",
        "print(\"iterations =\",count)"
      ],
      "metadata": {
        "id": "pIiellCri_GG",
        "outputId": "ee63df6c-f54e-4c64-e62f-1e1f39cf4eae",
        "colab": {
          "base_uri": "https://localhost:8080/"
        }
      },
      "execution_count": 17,
      "outputs": [
        {
          "output_type": "stream",
          "name": "stdout",
          "text": [
            "random not equal 31 2\n",
            "random not equal 22 12\n",
            "random not equal 37 29\n",
            "random not equal 31 8\n",
            "random not equal 28 22\n",
            "random not equal 16 6\n",
            "random not equal 20 28\n",
            "random not equal 16 22\n",
            "random not equal 40 2\n",
            "random not equal 9 13\n",
            "random not equal 7 22\n",
            "random not equal 6 27\n",
            "random not equal 16 8\n",
            "random not equal 8 28\n",
            "random not equal 2 18\n",
            "random not equal 3 8\n",
            "random not equal 18 17\n",
            "random not equal 33 21\n",
            "random not equal 46 0\n",
            "random not equal 15 30\n",
            "random not equal 15 14\n",
            "random not equal 22 30\n",
            "random not equal 8 19\n",
            "random not equal 23 15\n",
            "random not equal 4 22\n",
            "random not equal 37 19\n",
            "random not equal 48 24\n",
            "random not equal 7 19\n",
            "random not equal 33 0\n",
            "random not equal 7 10\n",
            "random not equal 45 18\n",
            "random not equal 25 18\n",
            "random not equal 47 10\n",
            "random not equal 12 29\n",
            "random not equal 9 10\n",
            "random not equal 18 13\n",
            "random not equal 41 2\n",
            "random not equal 28 11\n",
            "random not equal 32 15\n",
            "random not equal 20 26\n",
            "random not equal 1 12\n",
            "random not equal 8 1\n",
            "random not equal 37 24\n",
            "random not equal 27 18\n",
            "random not equal 43 4\n",
            "random not equal 36 13\n",
            "random not equal 26 23\n",
            "random not equal 13 6\n",
            "random not equal 47 16\n",
            "random not equal 8 14\n",
            "random not equal 45 29\n",
            "random not equal 10 23\n",
            "random not equal 23 26\n",
            "random not equal 19 13\n",
            "random not equal 32 20\n",
            "random equal 24 24\n",
            "iterations = 56\n"
          ]
        }
      ]
    },
    {
      "cell_type": "code",
      "source": [
        "string_1 = input(\"Enter something:\")\n",
        "string_1 = string_1.upper()\n",
        "str_lst = list(string_1)\n",
        "for i in range(0,len(str_lst),2):\n",
        "    str_lst[i] = str_lst[i].lower()\n",
        "for i in range(0,len(str_lst)):\n",
        "    print(str_lst[i],end = \"\")\n"
      ],
      "metadata": {
        "id": "7mjmQRwAmFWP",
        "outputId": "84347089-46fc-4225-c223-e0c76dac662a",
        "colab": {
          "base_uri": "https://localhost:8080/"
        }
      },
      "execution_count": 27,
      "outputs": [
        {
          "output_type": "stream",
          "name": "stdout",
          "text": [
            "Enter something:Absolutely hilarious\n",
            "aBsOlUtElY HiLaRiOuS"
          ]
        }
      ]
    },
    {
      "cell_type": "code",
      "source": [],
      "metadata": {
        "id": "Sgy7RJJenxWn"
      },
      "execution_count": null,
      "outputs": []
    }
  ]
}